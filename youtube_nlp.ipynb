{
 "cells": [
  {
   "cell_type": "code",
   "execution_count": 1,
   "metadata": {
    "collapsed": false
   },
   "outputs": [],
   "source": [
    "%matplotlib inline\n",
    "import re\n",
    "import matplotlib\n",
    "import numpy as np\n",
    "import matplotlib.pyplot as plt\n",
    "import pandas as pd\n",
    "import seaborn as sns"
   ]
  },
  {
   "cell_type": "code",
   "execution_count": 2,
   "metadata": {
    "collapsed": true
   },
   "outputs": [],
   "source": [
    "pd.options.display.max_colwidth = 100"
   ]
  },
  {
   "cell_type": "code",
   "execution_count": 3,
   "metadata": {
    "collapsed": false
   },
   "outputs": [
    {
     "name": "stdout",
     "output_type": "stream",
     "text": [
      "                                                                                                       0  \\\n",
      "0                                                                                                 266487   \n",
      "1                     I just had an astounding realisation. You’re like the male version of Rory Gilmore   \n",
      "2    Here’s what I learnt during university days:\\n\\n1. Grades don’t matter\\n2. Take any extra course...   \n",
      "3                                                                                            Thank you!!   \n",
      "4    The Harvard isn't great but it's the people refers to Swimmer's Body Illusion which is true. You...   \n",
      "5                                         John this video is so good, thank you♡♡♡ kisses from Argentina   \n",
      "6                     You're a great inspiration John, I love watching your videos. Love from Sweden🇸🇪❤❤   \n",
      "7    The people who are likely not to make it in life are the ones here  commenting on him not blinki...   \n",
      "8                                                     Thanks for sharing this with us , that was helpful   \n",
      "9    What other than the people would a university be. Buildings don’t matter. But faculty and friend...   \n",
      "10                                                                           How can I get into harward?   \n",
      "11   Wow... your passion for knowledge is really admirable. It's as if listening to you share about w...   \n",
      "12                                                           College is a waste of time for smart people   \n",
      "13   Sometimes it is hard to know what one's future self will think, looking back.  Did I make ration...   \n",
      "14   HOLY MOLY did this feel just REALLY relatable, especially #3. Problem is, I got such a kick out ...   \n",
      "15   bro im not hating but your talking about sacrificing 100's for 80's and 90's to free up time. br...   \n",
      "16   And Elisha prayed, and said, Lord, I pray thee, open his eyes, that he may see. And the Lord ope...   \n",
      "17                                                                 Sure, school doesn’t matter that much   \n",
      "18                                                From your eyes I can tell you don’t get complete sleep   \n",
      "19                                                                              YOU ARE AN INSPIRATION!!   \n",
      "20                                                                       Blink your a goddamn psychopath   \n",
      "21                                                                                             Nice lisp   \n",
      "22                                                                   Thank you for your videos John 🙏🏼❤️   \n",
      "23                                                                                                     👍   \n",
      "24                                                               U are one heck of a 19 yo to look up to   \n",
      "25                                                                                  Sleep 8 hours a day.   \n",
      "26                                                              How many classes do you take a semester?   \n",
      "27                                                   Ok just 40 hours of commitment a week for studying.   \n",
      "28                                                                        You didn't answer my question.   \n",
      "29                                                      Just study 40 hrs a week. 100/100 perfect score.   \n",
      "..                                                                                                   ...   \n",
      "484                                                                                   loved the video :)   \n",
      "485  I got a question.... the commercials that come on before the video and in-between; if I watch th...   \n",
      "486                                                               I love your philosophy of happiness💖😄😁   \n",
      "487                                                                                        thank you!!!!   \n",
      "488  You are my most favourite youtuber. If I could give you one tip that would be to live your eyes ...   \n",
      "489                                21 hours eating lmao, you can cut that in half if you shovel it down!   \n",
      "490                                                                         great job bro keep going ^_^   \n",
      "491  The Harvard experience sounds too advanced, but I’m glad you are doing well above and beyond jus...   \n",
      "492                                                                                             Uh boot.   \n",
      "493                                   Aspiring to go to Harvard, your videos really help and inspire me!   \n",
      "494           Could you make a video of you favourite books you've read so far, regardless of the genre?   \n",
      "495             Wait I’m confused how old is he and what year is a freshman equivalent to in UK schools?   \n",
      "496                                                                       Your videos are worth watching   \n",
      "497            I love your videos man! Perfect mix of insights and entertainment. Keep up the good work.   \n",
      "498                                                                                              love it   \n",
      "499                                                    On average, how many hours do you spend studying?   \n",
      "500                                                                  Great video, really well explained.   \n",
      "501  You are very nice and honest bro.. and just like yours growth book i also started maintaining my...   \n",
      "502                                                                                        Inspirational   \n",
      "503                                                              Nice of you to change the location john   \n",
      "504                                                                                   CAVS GETTING SWEPT   \n",
      "505     great video, can you pls make a video of how to get into harvard as an international student pls   \n",
      "506  i definitely wish i learned that school doesn't matter that much when i was younger!! the 80/20 ...   \n",
      "507                                                                                     13th comment....   \n",
      "508                                                                                  You're not blinking   \n",
      "509                                                                                Is harvard overrated?   \n",
      "510                                                                          Hello!!!! Great Video <3 <3   \n",
      "511                                                             Keep it up John be anything u want to be   \n",
      "512                                                                                       First to watch   \n",
      "513                                                                                               First!   \n",
      "\n",
      "              1     2  \n",
      "0    13720.0000   208  \n",
      "1        0.6486     0  \n",
      "2        0.4588     1  \n",
      "3        0.4738     0  \n",
      "4        0.7272     0  \n",
      "5        0.8696     0  \n",
      "6        0.9509     1  \n",
      "7        0.0258     1  \n",
      "8        0.8176     1  \n",
      "9        0.4939     0  \n",
      "10       0.0000     0  \n",
      "11       0.9606     0  \n",
      "12      -0.0258     0  \n",
      "13      -0.1027     0  \n",
      "14       0.9717     0  \n",
      "15       0.8750     0  \n",
      "16      -0.0258     0  \n",
      "17       0.3400     0  \n",
      "18       0.0000     0  \n",
      "19       0.6103     0  \n",
      "20      -0.4767     0  \n",
      "21       0.4215     0  \n",
      "22       0.3612     0  \n",
      "23       0.0000     0  \n",
      "24       0.0000     0  \n",
      "25       0.0000     0  \n",
      "26       0.0000     0  \n",
      "27       0.5859     0  \n",
      "28       0.0000     0  \n",
      "29       0.5719     0  \n",
      "..          ...   ...  \n",
      "484      0.7845     0  \n",
      "485      0.0000    11  \n",
      "486      0.6369     8  \n",
      "487      0.5673     0  \n",
      "488      0.3612   953  \n",
      "489      0.4753     0  \n",
      "490      0.6249     0  \n",
      "491      0.7992     0  \n",
      "492      0.0000     5  \n",
      "493      0.8047     8  \n",
      "494      0.0000   242  \n",
      "495     -0.3182     6  \n",
      "496      0.2263    69  \n",
      "497      0.9312     0  \n",
      "498      0.6369     0  \n",
      "499      0.0000     0  \n",
      "500      0.7574     0  \n",
      "501      0.9266     0  \n",
      "502      0.5106     0  \n",
      "503      0.4215     5  \n",
      "504      0.0000    48  \n",
      "505      0.6908     0  \n",
      "506      0.9644   117  \n",
      "507      0.0000     0  \n",
      "508      0.0000  1577  \n",
      "509      0.0000   100  \n",
      "510      0.9015     0  \n",
      "511      0.0772     0  \n",
      "512      0.0000     0  \n",
      "513      0.0000     1  \n",
      "\n",
      "[514 rows x 3 columns]\n"
     ]
    }
   ],
   "source": [
    "df = pd.read_csv('compounds.csv',header = None)\n",
    "print(df);"
   ]
  },
  {
   "cell_type": "code",
   "execution_count": 4,
   "metadata": {
    "collapsed": false
   },
   "outputs": [],
   "source": [
    "view_stats = df.iloc[0,:]"
   ]
  },
  {
   "cell_type": "code",
   "execution_count": 5,
   "metadata": {
    "collapsed": false
   },
   "outputs": [
    {
     "name": "stdout",
     "output_type": "stream",
     "text": [
      "so we have 266487 view counts, 13720.0 likes, 208 dislikes. \n"
     ]
    }
   ],
   "source": [
    "print(\"so we have \" + str(view_stats[0]) +\" view counts, \"+str(view_stats[1])+\" likes, \"+str(view_stats[2])+\" dislikes. \")"
   ]
  },
  {
   "cell_type": "markdown",
   "metadata": {},
   "source": [
    "We can also try to see how it looks like by creating a pie-chart"
   ]
  },
  {
   "cell_type": "code",
   "execution_count": 9,
   "metadata": {
    "collapsed": false
   },
   "outputs": [
    {
     "data": {
      "image/png": "[encoded data removed]",
      "text/plain": [
       "<Figure size 432x288 with 1 Axes>"
      ]
     },
     "metadata": {},
     "output_type": "display_data"
    }
   ],
   "source": [
    "labels = 'likes', 'dislikes'\n",
    "sizes = [view_stats[1], view_stats[2]]\n",
    "explode = (0, 0)  \n",
    "\n",
    "fig1, ax1 = plt.subplots()\n",
    "ax1.pie(sizes, explode=explode, labels=labels, autopct='%1.1f%%',\n",
    "        shadow=True, startangle=90)\n",
    "ax1.axis('equal') \n",
    "plt.show()"
   ]
  },
  {
   "cell_type": "markdown",
   "metadata": {},
   "source": [
    "So the chart above can present **visualisation** of how likeable our video is."
   ]
  },
  {
   "cell_type": "code",
   "execution_count": 10,
   "metadata": {
    "collapsed": false
   },
   "outputs": [],
   "source": [
    "df = df.drop(0)\n"
   ]
  },
  {
   "cell_type": "code",
   "execution_count": 11,
   "metadata": {
    "collapsed": true
   },
   "outputs": [],
   "source": [
    "df = df.rename(columns = {0:'text',1:'score',2:'likecount'})"
   ]
  },
  {
   "cell_type": "code",
   "execution_count": 12,
   "metadata": {
    "collapsed": true
   },
   "outputs": [],
   "source": [
    "df = df.reset_index(drop = True)"
   ]
  },
  {
   "cell_type": "code",
   "execution_count": 13,
   "metadata": {
    "collapsed": true
   },
   "outputs": [],
   "source": [
    "def Clean_Text(text):\n",
    "    \"\"\"\n",
    "    text: input for the text\n",
    "    Disclaimer:\n",
    "    This is a ongoing cleaning function\n",
    "    \"\"\"\n",
    "\n",
    "    text = text.lower()\n",
    "    text = re.sub(r\"what's\", \"what is \", text)\n",
    "    text = re.sub(r\"\\'s\", \" \", text)\n",
    "    text = re.sub(r\"\\'ve\", \" have \", text)\n",
    "    text = re.sub(r\"can't\", \"can not \", text)\n",
    "    text = re.sub(r\"n't\", \" not \", text)\n",
    "    text = re.sub(r\"i'm\", \"i am \", text)\n",
    "    text = re.sub(r\"he's\",\"he is \",text)\n",
    "    text = re.sub(r\"she's\",\"she is \",text)\n",
    "    text = re.sub(r\"\\'re\", \" are \", text)\n",
    "    text = re.sub(r\"\\'d\", \" would \", text)\n",
    "    text = re.sub(r\"\\'ll\", \" will \", text)\n",
    "    text = re.sub(r\"\\'scuse\", \" excuse \", text)\n",
    "    text = re.sub('\\W', ' ', text)\n",
    "    text = re.sub('\\s+', ' ', text)\n",
    "    text = re.sub(r'[^\\w\\s]','',text)\n",
    "    text = text.strip(' ')\n",
    "    return text\n"
   ]
  },
  {
   "cell_type": "code",
   "execution_count": 14,
   "metadata": {
    "collapsed": true
   },
   "outputs": [],
   "source": [
    "df['clean_text'] = df['text'].map(lambda com:Clean_Text(com))"
   ]
  },
  {
   "cell_type": "code",
   "execution_count": 15,
   "metadata": {
    "collapsed": false,
    "scrolled": true
   },
   "outputs": [
    {
     "data": {
      "text/html": [
       "<div>\n",
       "<table border=\"1\" class=\"dataframe\">\n",
       "  <thead>\n",
       "    <tr style=\"text-align: right;\">\n",
       "      <th></th>\n",
       "      <th>text</th>\n",
       "      <th>score</th>\n",
       "      <th>likecount</th>\n",
       "      <th>clean_text</th>\n",
       "    </tr>\n",
       "  </thead>\n",
       "  <tbody>\n",
       "    <tr>\n",
       "      <th>0</th>\n",
       "      <td>I just had an astounding realisation. You’re like the male version of Rory Gilmore</td>\n",
       "      <td>0.6486</td>\n",
       "      <td>0</td>\n",
       "      <td>i just had an astounding realisation you re like the male version of rory gilmore</td>\n",
       "    </tr>\n",
       "    <tr>\n",
       "      <th>1</th>\n",
       "      <td>Here’s what I learnt during university days:\\n\\n1. Grades don’t matter\\n2. Take any extra course...</td>\n",
       "      <td>0.4588</td>\n",
       "      <td>1</td>\n",
       "      <td>here s what i learnt during university days 1 grades don t matter 2 take any extra courses altho...</td>\n",
       "    </tr>\n",
       "    <tr>\n",
       "      <th>2</th>\n",
       "      <td>Thank you!!</td>\n",
       "      <td>0.4738</td>\n",
       "      <td>0</td>\n",
       "      <td>thank you</td>\n",
       "    </tr>\n",
       "    <tr>\n",
       "      <th>3</th>\n",
       "      <td>The Harvard isn't great but it's the people refers to Swimmer's Body Illusion which is true. You...</td>\n",
       "      <td>0.7272</td>\n",
       "      <td>0</td>\n",
       "      <td>the harvard is not great but it the people refers to swimmer body illusion which is true you sho...</td>\n",
       "    </tr>\n",
       "    <tr>\n",
       "      <th>4</th>\n",
       "      <td>John this video is so good, thank you♡♡♡ kisses from Argentina</td>\n",
       "      <td>0.8696</td>\n",
       "      <td>0</td>\n",
       "      <td>john this video is so good thank you kisses from argentina</td>\n",
       "    </tr>\n",
       "    <tr>\n",
       "      <th>5</th>\n",
       "      <td>You're a great inspiration John, I love watching your videos. Love from Sweden🇸🇪❤❤</td>\n",
       "      <td>0.9509</td>\n",
       "      <td>1</td>\n",
       "      <td>you are a great inspiration john i love watching your videos love from sweden</td>\n",
       "    </tr>\n",
       "    <tr>\n",
       "      <th>6</th>\n",
       "      <td>The people who are likely not to make it in life are the ones here  commenting on him not blinki...</td>\n",
       "      <td>0.0258</td>\n",
       "      <td>1</td>\n",
       "      <td>the people who are likely not to make it in life are the ones here commenting on him not blinkin...</td>\n",
       "    </tr>\n",
       "    <tr>\n",
       "      <th>7</th>\n",
       "      <td>Thanks for sharing this with us , that was helpful</td>\n",
       "      <td>0.8176</td>\n",
       "      <td>1</td>\n",
       "      <td>thanks for sharing this with us that was helpful</td>\n",
       "    </tr>\n",
       "    <tr>\n",
       "      <th>8</th>\n",
       "      <td>What other than the people would a university be. Buildings don’t matter. But faculty and friend...</td>\n",
       "      <td>0.4939</td>\n",
       "      <td>0</td>\n",
       "      <td>what other than the people would a university be buildings don t matter but faculty and friends ...</td>\n",
       "    </tr>\n",
       "    <tr>\n",
       "      <th>9</th>\n",
       "      <td>How can I get into harward?</td>\n",
       "      <td>0.0000</td>\n",
       "      <td>0</td>\n",
       "      <td>how can i get into harward</td>\n",
       "    </tr>\n",
       "  </tbody>\n",
       "</table>\n",
       "</div>"
      ],
      "text/plain": [
       "                                                                                                  text  \\\n",
       "0                   I just had an astounding realisation. You’re like the male version of Rory Gilmore   \n",
       "1  Here’s what I learnt during university days:\\n\\n1. Grades don’t matter\\n2. Take any extra course...   \n",
       "2                                                                                          Thank you!!   \n",
       "3  The Harvard isn't great but it's the people refers to Swimmer's Body Illusion which is true. You...   \n",
       "4                                       John this video is so good, thank you♡♡♡ kisses from Argentina   \n",
       "5                   You're a great inspiration John, I love watching your videos. Love from Sweden🇸🇪❤❤   \n",
       "6  The people who are likely not to make it in life are the ones here  commenting on him not blinki...   \n",
       "7                                                   Thanks for sharing this with us , that was helpful   \n",
       "8  What other than the people would a university be. Buildings don’t matter. But faculty and friend...   \n",
       "9                                                                          How can I get into harward?   \n",
       "\n",
       "    score  likecount  \\\n",
       "0  0.6486          0   \n",
       "1  0.4588          1   \n",
       "2  0.4738          0   \n",
       "3  0.7272          0   \n",
       "4  0.8696          0   \n",
       "5  0.9509          1   \n",
       "6  0.0258          1   \n",
       "7  0.8176          1   \n",
       "8  0.4939          0   \n",
       "9  0.0000          0   \n",
       "\n",
       "                                                                                            clean_text  \n",
       "0                    i just had an astounding realisation you re like the male version of rory gilmore  \n",
       "1  here s what i learnt during university days 1 grades don t matter 2 take any extra courses altho...  \n",
       "2                                                                                            thank you  \n",
       "3  the harvard is not great but it the people refers to swimmer body illusion which is true you sho...  \n",
       "4                                           john this video is so good thank you kisses from argentina  \n",
       "5                        you are a great inspiration john i love watching your videos love from sweden  \n",
       "6  the people who are likely not to make it in life are the ones here commenting on him not blinkin...  \n",
       "7                                                     thanks for sharing this with us that was helpful  \n",
       "8  what other than the people would a university be buildings don t matter but faculty and friends ...  \n",
       "9                                                                           how can i get into harward  "
      ]
     },
     "execution_count": 15,
     "metadata": {},
     "output_type": "execute_result"
    }
   ],
   "source": [
    "df.head(10)\n"
   ]
  },
  {
   "cell_type": "markdown",
   "metadata": {},
   "source": [
    "So now since we have `cleaned text`, we are going to try use NLTK again to see the new score."
   ]
  },
  {
   "cell_type": "code",
   "execution_count": 16,
   "metadata": {
    "collapsed": false
   },
   "outputs": [
    {
     "name": "stderr",
     "output_type": "stream",
     "text": [
      "/home/abhijeet/anaconda3/lib/python3.5/site-packages/nltk/twitter/__init__.py:20: UserWarning:\n",
      "\n",
      "The twython library has not been installed. Some functionality from the twitter package will not be available.\n",
      "\n"
     ]
    }
   ],
   "source": [
    "from nltk.sentiment.vader import SentimentIntensityAnalyzer as sid\n",
    "sid = sid()\n",
    "df['clean_text_score'] = df['clean_text'].map(lambda com:sid.polarity_scores(com)['compound'])"
   ]
  },
  {
   "cell_type": "code",
   "execution_count": 17,
   "metadata": {
    "collapsed": false
   },
   "outputs": [
    {
     "data": {
      "text/html": [
       "<div>\n",
       "<table border=\"1\" class=\"dataframe\">\n",
       "  <thead>\n",
       "    <tr style=\"text-align: right;\">\n",
       "      <th></th>\n",
       "      <th>text</th>\n",
       "      <th>score</th>\n",
       "      <th>likecount</th>\n",
       "      <th>clean_text</th>\n",
       "      <th>clean_text_score</th>\n",
       "    </tr>\n",
       "  </thead>\n",
       "  <tbody>\n",
       "    <tr>\n",
       "      <th>0</th>\n",
       "      <td>I just had an astounding realisation. You’re like the male version of Rory Gilmore</td>\n",
       "      <td>0.6486</td>\n",
       "      <td>0</td>\n",
       "      <td>i just had an astounding realisation you re like the male version of rory gilmore</td>\n",
       "      <td>0.6486</td>\n",
       "    </tr>\n",
       "    <tr>\n",
       "      <th>1</th>\n",
       "      <td>Here’s what I learnt during university days:\\n\\n1. Grades don’t matter\\n2. Take any extra course...</td>\n",
       "      <td>0.4588</td>\n",
       "      <td>1</td>\n",
       "      <td>here s what i learnt during university days 1 grades don t matter 2 take any extra courses altho...</td>\n",
       "      <td>0.7226</td>\n",
       "    </tr>\n",
       "    <tr>\n",
       "      <th>2</th>\n",
       "      <td>Thank you!!</td>\n",
       "      <td>0.4738</td>\n",
       "      <td>0</td>\n",
       "      <td>thank you</td>\n",
       "      <td>0.3612</td>\n",
       "    </tr>\n",
       "  </tbody>\n",
       "</table>\n",
       "</div>"
      ],
      "text/plain": [
       "                                                                                                  text  \\\n",
       "0                   I just had an astounding realisation. You’re like the male version of Rory Gilmore   \n",
       "1  Here’s what I learnt during university days:\\n\\n1. Grades don’t matter\\n2. Take any extra course...   \n",
       "2                                                                                          Thank you!!   \n",
       "\n",
       "    score  likecount  \\\n",
       "0  0.6486          0   \n",
       "1  0.4588          1   \n",
       "2  0.4738          0   \n",
       "\n",
       "                                                                                            clean_text  \\\n",
       "0                    i just had an astounding realisation you re like the male version of rory gilmore   \n",
       "1  here s what i learnt during university days 1 grades don t matter 2 take any extra courses altho...   \n",
       "2                                                                                            thank you   \n",
       "\n",
       "   clean_text_score  \n",
       "0            0.6486  \n",
       "1            0.7226  \n",
       "2            0.3612  "
      ]
     },
     "execution_count": 17,
     "metadata": {},
     "output_type": "execute_result"
    }
   ],
   "source": [
    "df.head(3)"
   ]
  },
  {
   "cell_type": "code",
   "execution_count": 18,
   "metadata": {
    "collapsed": true
   },
   "outputs": [],
   "source": [
    "df_like_ranking = df.sort_values('likecount',ascending = False)"
   ]
  },
  {
   "cell_type": "code",
   "execution_count": 19,
   "metadata": {
    "collapsed": false
   },
   "outputs": [
    {
     "data": {
      "text/html": [
       "<div>\n",
       "<table border=\"1\" class=\"dataframe\">\n",
       "  <thead>\n",
       "    <tr style=\"text-align: right;\">\n",
       "      <th></th>\n",
       "      <th>text</th>\n",
       "      <th>score</th>\n",
       "      <th>likecount</th>\n",
       "      <th>clean_text</th>\n",
       "      <th>clean_text_score</th>\n",
       "    </tr>\n",
       "  </thead>\n",
       "  <tbody>\n",
       "    <tr>\n",
       "      <th>507</th>\n",
       "      <td>You're not blinking</td>\n",
       "      <td>0.0000</td>\n",
       "      <td>1577</td>\n",
       "      <td>you are not blinking</td>\n",
       "      <td>0.0000</td>\n",
       "    </tr>\n",
       "    <tr>\n",
       "      <th>487</th>\n",
       "      <td>You are my most favourite youtuber. If I could give you one tip that would be to live your eyes ...</td>\n",
       "      <td>0.3612</td>\n",
       "      <td>953</td>\n",
       "      <td>you are my most favourite youtuber if i could give you one tip that would be to live your eyes s...</td>\n",
       "      <td>0.3612</td>\n",
       "    </tr>\n",
       "    <tr>\n",
       "      <th>428</th>\n",
       "      <td>Guys, number 5 is KEY. You gotta surround yourself with success minded people. I am 32. Even tho...</td>\n",
       "      <td>0.9584</td>\n",
       "      <td>765</td>\n",
       "      <td>guys number 5 is key you gotta surround yourself with success minded people i am 32 even though ...</td>\n",
       "      <td>0.9584</td>\n",
       "    </tr>\n",
       "    <tr>\n",
       "      <th>446</th>\n",
       "      <td>I can attest that he does blink regularly in real life. Excellent reflection and thanks for the ...</td>\n",
       "      <td>0.7650</td>\n",
       "      <td>532</td>\n",
       "      <td>i can attest that he does blink regularly in real life excellent reflection and thanks for the s...</td>\n",
       "      <td>0.7650</td>\n",
       "    </tr>\n",
       "    <tr>\n",
       "      <th>316</th>\n",
       "      <td>John you should be on TED talk</td>\n",
       "      <td>0.0000</td>\n",
       "      <td>524</td>\n",
       "      <td>john you should be on ted talk</td>\n",
       "      <td>0.0000</td>\n",
       "    </tr>\n",
       "    <tr>\n",
       "      <th>340</th>\n",
       "      <td>1. School doesn’t matter that much(to Him)- 0:11\\n2. Prioritising time is hard -  1:38\\n3. Help ...</td>\n",
       "      <td>0.4404</td>\n",
       "      <td>440</td>\n",
       "      <td>1 school doesn t matter that much to him 0 11 2 prioritising time is hard 1 38 3 help people wit...</td>\n",
       "      <td>0.4404</td>\n",
       "    </tr>\n",
       "    <tr>\n",
       "      <th>464</th>\n",
       "      <td>He’s so humble for a Harvard student</td>\n",
       "      <td>0.0000</td>\n",
       "      <td>256</td>\n",
       "      <td>he s so humble for a harvard student</td>\n",
       "      <td>0.0000</td>\n",
       "    </tr>\n",
       "    <tr>\n",
       "      <th>493</th>\n",
       "      <td>Could you make a video of you favourite books you've read so far, regardless of the genre?</td>\n",
       "      <td>0.0000</td>\n",
       "      <td>242</td>\n",
       "      <td>could you make a video of you favourite books you have read so far regardless of the genre</td>\n",
       "      <td>0.0000</td>\n",
       "    </tr>\n",
       "    <tr>\n",
       "      <th>423</th>\n",
       "      <td>*YOU'RE SO INSPIRING*</td>\n",
       "      <td>0.0000</td>\n",
       "      <td>155</td>\n",
       "      <td>you are so inspiring</td>\n",
       "      <td>0.5598</td>\n",
       "    </tr>\n",
       "    <tr>\n",
       "      <th>505</th>\n",
       "      <td>i definitely wish i learned that school doesn't matter that much when i was younger!! the 80/20 ...</td>\n",
       "      <td>0.9644</td>\n",
       "      <td>117</td>\n",
       "      <td>i definitely wish i learned that school does not matter that much when i was younger the 80 20 r...</td>\n",
       "      <td>0.9581</td>\n",
       "    </tr>\n",
       "  </tbody>\n",
       "</table>\n",
       "</div>"
      ],
      "text/plain": [
       "                                                                                                    text  \\\n",
       "507                                                                                  You're not blinking   \n",
       "487  You are my most favourite youtuber. If I could give you one tip that would be to live your eyes ...   \n",
       "428  Guys, number 5 is KEY. You gotta surround yourself with success minded people. I am 32. Even tho...   \n",
       "446  I can attest that he does blink regularly in real life. Excellent reflection and thanks for the ...   \n",
       "316                                                                       John you should be on TED talk   \n",
       "340  1. School doesn’t matter that much(to Him)- 0:11\\n2. Prioritising time is hard -  1:38\\n3. Help ...   \n",
       "464                                                                 He’s so humble for a Harvard student   \n",
       "493           Could you make a video of you favourite books you've read so far, regardless of the genre?   \n",
       "423                                                                                *YOU'RE SO INSPIRING*   \n",
       "505  i definitely wish i learned that school doesn't matter that much when i was younger!! the 80/20 ...   \n",
       "\n",
       "      score  likecount  \\\n",
       "507  0.0000       1577   \n",
       "487  0.3612        953   \n",
       "428  0.9584        765   \n",
       "446  0.7650        532   \n",
       "316  0.0000        524   \n",
       "340  0.4404        440   \n",
       "464  0.0000        256   \n",
       "493  0.0000        242   \n",
       "423  0.0000        155   \n",
       "505  0.9644        117   \n",
       "\n",
       "                                                                                              clean_text  \\\n",
       "507                                                                                 you are not blinking   \n",
       "487  you are my most favourite youtuber if i could give you one tip that would be to live your eyes s...   \n",
       "428  guys number 5 is key you gotta surround yourself with success minded people i am 32 even though ...   \n",
       "446  i can attest that he does blink regularly in real life excellent reflection and thanks for the s...   \n",
       "316                                                                       john you should be on ted talk   \n",
       "340  1 school doesn t matter that much to him 0 11 2 prioritising time is hard 1 38 3 help people wit...   \n",
       "464                                                                 he s so humble for a harvard student   \n",
       "493           could you make a video of you favourite books you have read so far regardless of the genre   \n",
       "423                                                                                 you are so inspiring   \n",
       "505  i definitely wish i learned that school does not matter that much when i was younger the 80 20 r...   \n",
       "\n",
       "     clean_text_score  \n",
       "507            0.0000  \n",
       "487            0.3612  \n",
       "428            0.9584  \n",
       "446            0.7650  \n",
       "316            0.0000  \n",
       "340            0.4404  \n",
       "464            0.0000  \n",
       "493            0.0000  \n",
       "423            0.5598  \n",
       "505            0.9581  "
      ]
     },
     "execution_count": 19,
     "metadata": {},
     "output_type": "execute_result"
    }
   ],
   "source": [
    "df_like_ranking.head(10)"
   ]
  },
  {
   "cell_type": "markdown",
   "metadata": {},
   "source": [
    "If you wanna know **all** the likecount in a decending order ,just remove the `#` in the next chuck and it will show you the result."
   ]
  },
  {
   "cell_type": "code",
   "execution_count": 20,
   "metadata": {
    "collapsed": false
   },
   "outputs": [
    {
     "name": "stdout",
     "output_type": "stream",
     "text": [
      "<class 'pandas.core.frame.DataFrame'>\n",
      "RangeIndex: 513 entries, 0 to 512\n",
      "Data columns (total 5 columns):\n",
      "text                513 non-null object\n",
      "score               513 non-null float64\n",
      "likecount           513 non-null int64\n",
      "clean_text          513 non-null object\n",
      "clean_text_score    513 non-null float64\n",
      "dtypes: float64(2), int64(1), object(2)\n",
      "memory usage: 20.1+ KB\n"
     ]
    }
   ],
   "source": [
    "df.info()"
   ]
  },
  {
   "cell_type": "code",
   "execution_count": 21,
   "metadata": {
    "collapsed": true
   },
   "outputs": [],
   "source": [
    "def pick_up_comments(data,score,threshold):\n",
    "    \"\"\"\n",
    "    This function take three inputs:\n",
    "    - data :dataframe\n",
    "    - score : score you wannt to examine,input requires to be in [-1,1]. For negative numbers it will run scores no greater than the input,for positve\n",
    "        numbers it will find scores no smaller than the input.\n",
    "    - likecount : postive interger input required.\n",
    "    \n",
    "    \"\"\"\n",
    "    \n",
    "    if score > 0:\n",
    "        df =  data.loc[(df_like_ranking[\"clean_text_score\"] >= score) & (df_like_ranking[\"likecount\"] >= threshold)].sort_values(['likecount', 'score'],ascending=[False, False])\n",
    "        return df\n",
    "    elif score <= 0:\n",
    "        df =  data.loc[(df_like_ranking[\"clean_text_score\"] <= score) & (df_like_ranking[\"likecount\"] >= threshold)].sort_values(['likecount', 'score'],ascending=[False, True])\n",
    "        return df\n",
    "              "
   ]
  },
  {
   "cell_type": "markdown",
   "metadata": {},
   "source": [
    "----"
   ]
  },
  {
   "cell_type": "markdown",
   "metadata": {},
   "source": [
    "Here is just a part we are going to use the function to see how the `clean_text_score` interact with likecount.\n",
    "You can change the number for your own analysis."
   ]
  },
  {
   "cell_type": "code",
   "execution_count": 22,
   "metadata": {
    "collapsed": false
   },
   "outputs": [
    {
     "data": {
      "text/html": [
       "<div>\n",
       "<table border=\"1\" class=\"dataframe\">\n",
       "  <thead>\n",
       "    <tr style=\"text-align: right;\">\n",
       "      <th></th>\n",
       "      <th>text</th>\n",
       "      <th>score</th>\n",
       "      <th>likecount</th>\n",
       "      <th>clean_text</th>\n",
       "      <th>clean_text_score</th>\n",
       "    </tr>\n",
       "  </thead>\n",
       "  <tbody>\n",
       "    <tr>\n",
       "      <th>428</th>\n",
       "      <td>Guys, number 5 is KEY. You gotta surround yourself with success minded people. I am 32. Even tho...</td>\n",
       "      <td>0.9584</td>\n",
       "      <td>765</td>\n",
       "      <td>guys number 5 is key you gotta surround yourself with success minded people i am 32 even though ...</td>\n",
       "      <td>0.9584</td>\n",
       "    </tr>\n",
       "    <tr>\n",
       "      <th>505</th>\n",
       "      <td>i definitely wish i learned that school doesn't matter that much when i was younger!! the 80/20 ...</td>\n",
       "      <td>0.9644</td>\n",
       "      <td>117</td>\n",
       "      <td>i definitely wish i learned that school does not matter that much when i was younger the 80 20 r...</td>\n",
       "      <td>0.9581</td>\n",
       "    </tr>\n",
       "  </tbody>\n",
       "</table>\n",
       "</div>"
      ],
      "text/plain": [
       "                                                                                                    text  \\\n",
       "428  Guys, number 5 is KEY. You gotta surround yourself with success minded people. I am 32. Even tho...   \n",
       "505  i definitely wish i learned that school doesn't matter that much when i was younger!! the 80/20 ...   \n",
       "\n",
       "      score  likecount  \\\n",
       "428  0.9584        765   \n",
       "505  0.9644        117   \n",
       "\n",
       "                                                                                              clean_text  \\\n",
       "428  guys number 5 is key you gotta surround yourself with success minded people i am 32 even though ...   \n",
       "505  i definitely wish i learned that school does not matter that much when i was younger the 80 20 r...   \n",
       "\n",
       "     clean_text_score  \n",
       "428            0.9584  \n",
       "505            0.9581  "
      ]
     },
     "execution_count": 22,
     "metadata": {},
     "output_type": "execute_result"
    }
   ],
   "source": [
    "pick_up_comments(df_like_ranking,0.8,50)"
   ]
  },
  {
   "cell_type": "code",
   "execution_count": 23,
   "metadata": {
    "collapsed": false
   },
   "outputs": [
    {
     "data": {
      "text/html": [
       "<div>\n",
       "<table border=\"1\" class=\"dataframe\">\n",
       "  <thead>\n",
       "    <tr style=\"text-align: right;\">\n",
       "      <th></th>\n",
       "      <th>text</th>\n",
       "      <th>score</th>\n",
       "      <th>likecount</th>\n",
       "      <th>clean_text</th>\n",
       "      <th>clean_text_score</th>\n",
       "    </tr>\n",
       "  </thead>\n",
       "  <tbody>\n",
       "  </tbody>\n",
       "</table>\n",
       "</div>"
      ],
      "text/plain": [
       "Empty DataFrame\n",
       "Columns: [text, score, likecount, clean_text, clean_text_score]\n",
       "Index: []"
      ]
     },
     "execution_count": 23,
     "metadata": {},
     "output_type": "execute_result"
    }
   ],
   "source": [
    "pick_up_comments(df_like_ranking,-0.5,50)"
   ]
  },
  {
   "cell_type": "code",
   "execution_count": 24,
   "metadata": {
    "collapsed": false
   },
   "outputs": [
    {
     "data": {
      "text/html": [
       "<div>\n",
       "<table border=\"1\" class=\"dataframe\">\n",
       "  <thead>\n",
       "    <tr style=\"text-align: right;\">\n",
       "      <th></th>\n",
       "      <th>text</th>\n",
       "      <th>score</th>\n",
       "      <th>likecount</th>\n",
       "      <th>clean_text</th>\n",
       "      <th>clean_text_score</th>\n",
       "    </tr>\n",
       "  </thead>\n",
       "  <tbody>\n",
       "  </tbody>\n",
       "</table>\n",
       "</div>"
      ],
      "text/plain": [
       "Empty DataFrame\n",
       "Columns: [text, score, likecount, clean_text, clean_text_score]\n",
       "Index: []"
      ]
     },
     "execution_count": 24,
     "metadata": {},
     "output_type": "execute_result"
    }
   ],
   "source": [
    "pick_up_comments(df_like_ranking,-0.4,50)"
   ]
  },
  {
   "cell_type": "code",
   "execution_count": 25,
   "metadata": {
    "collapsed": false
   },
   "outputs": [
    {
     "data": {
      "text/html": [
       "<div>\n",
       "<table border=\"1\" class=\"dataframe\">\n",
       "  <thead>\n",
       "    <tr style=\"text-align: right;\">\n",
       "      <th></th>\n",
       "      <th>text</th>\n",
       "      <th>score</th>\n",
       "      <th>likecount</th>\n",
       "      <th>clean_text</th>\n",
       "      <th>clean_text_score</th>\n",
       "    </tr>\n",
       "  </thead>\n",
       "  <tbody>\n",
       "  </tbody>\n",
       "</table>\n",
       "</div>"
      ],
      "text/plain": [
       "Empty DataFrame\n",
       "Columns: [text, score, likecount, clean_text, clean_text_score]\n",
       "Index: []"
      ]
     },
     "execution_count": 25,
     "metadata": {},
     "output_type": "execute_result"
    }
   ],
   "source": [
    "pick_up_comments(df_like_ranking,-0.6,20)"
   ]
  },
  {
   "cell_type": "markdown",
   "metadata": {},
   "source": [
    "# Histogram of the score"
   ]
  },
  {
   "cell_type": "code",
   "execution_count": 26,
   "metadata": {
    "collapsed": true
   },
   "outputs": [],
   "source": [
    "from scipy.stats import kurtosis\n",
    "doanes = lambda data: int(1 + np.log(len(data)) + np.log(1 +  kurtosis(data) * (len(data)/6.)** 0.5))"
   ]
  },
  {
   "cell_type": "code",
   "execution_count": 27,
   "metadata": {
    "collapsed": false
   },
   "outputs": [
    {
     "data": {
      "text/plain": [
       "<matplotlib.axes._subplots.AxesSubplot at 0x7fe8caab0630>"
      ]
     },
     "execution_count": 27,
     "metadata": {},
     "output_type": "execute_result"
    },
    {
     "data": {
      "image/png": "[encoded data removed]",
      "text/plain": [
       "<Figure size 432x288 with 1 Axes>"
      ]
     },
     "metadata": {},
     "output_type": "display_data"
    }
   ],
   "source": [
    "df_like_ranking.clean_text_score.hist()"
   ]
  },
  {
   "cell_type": "markdown",
   "metadata": {},
   "source": [
    "# Histogram of the score"
   ]
  },
  {
   "cell_type": "code",
   "execution_count": 28,
   "metadata": {
    "collapsed": true
   },
   "outputs": [],
   "source": [
    "from scipy.stats import kurtosis\n",
    "doanes = lambda data: int(1 + np.log(len(data)) + np.log(1 +  kurtosis(data) * (len(data)/6.)** 0.5))"
   ]
  },
  {
   "cell_type": "code",
   "execution_count": 29,
   "metadata": {
    "collapsed": false
   },
   "outputs": [
    {
     "data": {
      "text/plain": [
       "<matplotlib.axes._subplots.AxesSubplot at 0x7fe8caa775c0>"
      ]
     },
     "execution_count": 29,
     "metadata": {},
     "output_type": "execute_result"
    },
    {
     "data": {
      "image/png": "[encoded data removed]",
      "text/plain": [
       "<Figure size 432x288 with 1 Axes>"
      ]
     },
     "metadata": {},
     "output_type": "display_data"
    }
   ],
   "source": [
    "df_like_ranking.likecount.hist(bins = doanes(df_like_ranking[\"likecount\"]))"
   ]
  },
  {
   "cell_type": "markdown",
   "metadata": {},
   "source": [
    "maybe try to plot scatter points betweeen `likecounts` and `clean_text_score`."
   ]
  },
  {
   "cell_type": "code",
   "execution_count": 30,
   "metadata": {
    "collapsed": false
   },
   "outputs": [
    {
     "data": {
      "text/plain": [
       "<seaborn.axisgrid.JointGrid at 0x7fe8caa40e80>"
      ]
     },
     "execution_count": 30,
     "metadata": {},
     "output_type": "execute_result"
    },
    {
     "data": {
      "image/png": "[encoded data removed]",
      "text/plain": [
       "<Figure size 432x432 with 3 Axes>"
      ]
     },
     "metadata": {},
     "output_type": "display_data"
    }
   ],
   "source": [
    "sns.jointplot(x=\"clean_text_score\", y=\"likecount\", data=df_like_ranking)"
   ]
  },
  {
   "cell_type": "code",
   "execution_count": null,
   "metadata": {
    "collapsed": true
   },
   "outputs": [],
   "source": []
  }
 ],
 "metadata": {
  "anaconda-cloud": {},
  "kernelspec": {
   "display_name": "Python [default]",
   "language": "python",
   "name": "python3"
  },
  "language_info": {
   "codemirror_mode": {
    "name": "ipython",
    "version": 3
   },
   "file_extension": ".py",
   "mimetype": "text/x-python",
   "name": "python",
   "nbconvert_exporter": "python",
   "pygments_lexer": "ipython3",
   "version": "3.5.2"
  }
 },
 "nbformat": 4,
 "nbformat_minor": 2
}
